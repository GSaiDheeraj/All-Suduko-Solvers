{
 "cells": [
  {
   "cell_type": "code",
   "execution_count": 2,
   "metadata": {},
   "outputs": [
    {
     "name": "stdout",
     "output_type": "stream",
     "text": [
      "[[2, 0, 0, 0, 0, 3, 0, 6, 0],\n",
      " [0, 0, 3, 0, 0, 9, 8, 0, 1],\n",
      " [8, 0, 0, 6, 0, 2, 3, 0, 0],\n",
      " [0, 0, 0, 5, 0, 0, 0, 0, 6],\n",
      " [9, 0, 7, 0, 0, 0, 6, 0, 5],\n",
      " [0, 0, 0, 0, 0, 4, 0, 0, 0],\n",
      " [0, 0, 6, 1, 0, 5, 0, 0, 3],\n",
      " [1, 0, 9, 4, 0, 0, 2, 0, 0],\n",
      " [0, 8, 0, 9, 0, 0, 0, 0, 6]]\n"
     ]
    }
   ],
   "source": [
    "import pprint\n",
    "\n",
    "# solve sudoku using backtraking\n",
    "#bo=2D list\n",
    "#return solution\n",
    "def solve(bo):\n",
    "    find=find_empty(bo)\n",
    "    if find:\n",
    "        row,col = find\n",
    "    else:\n",
    "        return True\n",
    "    for i in range(1,10):\n",
    "        if valid(bo,(row,col),i):\n",
    "            bo[row][col]=i\n",
    "            \n",
    "            if  solve(bo):\n",
    "                return True\n",
    "            bo[row][col]=0\n",
    "    return False\n",
    "def valid(bo,pos,num):\n",
    "    '''\n",
    "Returns if move is valid\n",
    "bo=2D list\n",
    "pos= (rowa,col)\n",
    "num=int\n",
    "return: bool\n",
    "'''  \n",
    "#check row wise\n",
    "    for i in range(0,len(bo)):\n",
    "        if bo[pos[0]][i] ==num and pos[1]!=1:\n",
    "            return False \n",
    "#check colom wise\n",
    "    for i in range(0,len(bo)):\n",
    "        if bo[i][pos[1]] ==num and pos[1]!=1:\n",
    "            return False\n",
    "#check box\n",
    "    box_x=pos[1]//3\n",
    "    box_y=pos[0]//3\n",
    "    \n",
    "    for i in range(box_y*3,box_y*3+3):\n",
    "        for j in range(box_x*3,box_x*3+3):\n",
    "            if bo[i][j] == num and (i,j)!= pos:\n",
    "                return False\n",
    "    return True\n",
    "def find_empty(bo):\n",
    "    '''find empty space in box\n",
    "    partially complete board\n",
    "    return (int,int) = row,col\n",
    "    '''\n",
    "    for i in range(len(bo)):\n",
    "        for j in range(len(bo[0])):\n",
    "            if bo[i][j]==0:\n",
    "                return(i,j)\n",
    "    return None\n",
    "def print_board(bo):\n",
    "    for i in range(len(bo)):\n",
    "        if i%3==0 and i!=0:\n",
    "            print(\"            \")\n",
    "        for j in  range(len(bo[0])):\n",
    "            if j%3==0:\n",
    "                print(\"|\",end=\"\")\n",
    "            if j==0:\n",
    "                print(bo[i][j],end=\"\\n\")\n",
    "            else:\n",
    "                print(str(bo[i][j]+\" \",end=\" \"))\n",
    "board = [[2,0,0,0,0,3,0,6,0],\n",
    "         [0,0,3,0,0,9,8,0,1],\n",
    "         [8,0,0,6,0,2,3,0,0],\n",
    "         [0,0,0,5,0,0,0,0,6],\n",
    "         [9,0,7,0,0,0,6,0,5],\n",
    "         [0,0,0,0,0,4,0,0,0],\n",
    "         [0,0,6,1,0,5,0,0,3],   \n",
    "         [1,0,9,4,0,0,2,0,0],\n",
    "         [0,8,0,9,0,0,0,0,6]\n",
    "        ]\n",
    "pp=pprint.PrettyPrinter(width=41,compact=True)\n",
    "solve(board)\n",
    "pp.pprint(board)"
   ]
  },
  {
   "cell_type": "code",
   "execution_count": null,
   "metadata": {},
   "outputs": [],
   "source": []
  },
  {
   "cell_type": "code",
   "execution_count": null,
   "metadata": {},
   "outputs": [],
   "source": [
    "d"
   ]
  }
 ],
 "metadata": {
  "kernelspec": {
   "display_name": "Python 3",
   "language": "python",
   "name": "python3"
  },
  "language_info": {
   "codemirror_mode": {
    "name": "ipython",
    "version": 3
   },
   "file_extension": ".py",
   "mimetype": "text/x-python",
   "name": "python",
   "nbconvert_exporter": "python",
   "pygments_lexer": "ipython3",
   "version": "3.6.12"
  }
 },
 "nbformat": 4,
 "nbformat_minor": 4
}
